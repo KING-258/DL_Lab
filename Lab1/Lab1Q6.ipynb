{
 "cells": [
  {
   "cell_type": "code",
   "execution_count": 8,
   "metadata": {},
   "outputs": [],
   "source": [
    "import torch"
   ]
  },
  {
   "cell_type": "code",
   "execution_count": 9,
   "metadata": {},
   "outputs": [
    {
     "data": {
      "text/plain": [
       "tensor([[0, 2, 7, 6, 1, 1, 6],\n",
       "        [3, 7, 9, 6, 4, 6, 9],\n",
       "        [9, 6, 9, 3, 5, 6, 9],\n",
       "        [6, 5, 7, 6, 4, 5, 4],\n",
       "        [3, 8, 4, 0, 7, 9, 6],\n",
       "        [8, 3, 4, 9, 1, 7, 8],\n",
       "        [2, 2, 4, 5, 7, 0, 5]])"
      ]
     },
     "execution_count": 9,
     "metadata": {},
     "output_type": "execute_result"
    }
   ],
   "source": [
    "tensor1 = torch.randint(0, 10, (7, 7))\n",
    "tensor1"
   ]
  },
  {
   "cell_type": "code",
   "execution_count": 10,
   "metadata": {},
   "outputs": [
    {
     "data": {
      "text/plain": [
       "tensor([[6, 1, 0, 3, 6, 6, 0]])"
      ]
     },
     "execution_count": 10,
     "metadata": {},
     "output_type": "execute_result"
    }
   ],
   "source": [
    "tensor2 = torch.randint(0, 10, (1, 7))\n",
    "tensor2"
   ]
  },
  {
   "cell_type": "code",
   "execution_count": 11,
   "metadata": {},
   "outputs": [
    {
     "data": {
      "text/plain": [
       "tensor([[6],\n",
       "        [1],\n",
       "        [0],\n",
       "        [3],\n",
       "        [6],\n",
       "        [6],\n",
       "        [0]])"
      ]
     },
     "execution_count": 11,
     "metadata": {},
     "output_type": "execute_result"
    }
   ],
   "source": [
    "tensor2_reshaped = tensor2.transpose(0, 1)\n",
    "tensor2_reshaped"
   ]
  },
  {
   "cell_type": "code",
   "execution_count": 12,
   "metadata": {},
   "outputs": [
    {
     "data": {
      "text/plain": [
       "tensor([[ 32],\n",
       "        [103],\n",
       "        [135],\n",
       "        [113],\n",
       "        [122],\n",
       "        [126],\n",
       "        [ 71]])"
      ]
     },
     "execution_count": 12,
     "metadata": {},
     "output_type": "execute_result"
    }
   ],
   "source": [
    "result = torch.matmul(tensor1, tensor2_reshaped)\n",
    "result"
   ]
  },
  {
   "cell_type": "code",
   "execution_count": null,
   "metadata": {},
   "outputs": [],
   "source": []
  }
 ],
 "metadata": {
  "kernelspec": {
   "display_name": "env",
   "language": "python",
   "name": "python3"
  },
  "language_info": {
   "codemirror_mode": {
    "name": "ipython",
    "version": 3
   },
   "file_extension": ".py",
   "mimetype": "text/x-python",
   "name": "python",
   "nbconvert_exporter": "python",
   "pygments_lexer": "ipython3",
   "version": "3.12.3"
  }
 },
 "nbformat": 4,
 "nbformat_minor": 2
}
