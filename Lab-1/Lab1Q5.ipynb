{
 "cells": [
  {
   "cell_type": "code",
   "execution_count": 1,
   "metadata": {},
   "outputs": [],
   "source": [
    "import torch"
   ]
  },
  {
   "cell_type": "code",
   "execution_count": 2,
   "metadata": {},
   "outputs": [],
   "source": [
    "tensor = torch.rand(7, 7)"
   ]
  },
  {
   "cell_type": "code",
   "execution_count": 3,
   "metadata": {},
   "outputs": [
    {
     "data": {
      "text/plain": [
       "tensor([[0.4701, 0.9306, 0.5452, 0.8812, 0.1576, 0.8252, 0.6428],\n",
       "        [0.1627, 0.5978, 0.3949, 0.1384, 0.6644, 0.8705, 0.6259],\n",
       "        [0.6007, 0.4115, 0.2028, 0.7597, 0.6394, 0.2475, 0.8214],\n",
       "        [0.2855, 0.3626, 0.8013, 0.6772, 0.8928, 0.5102, 0.8653],\n",
       "        [0.4099, 0.6209, 0.7238, 0.4265, 0.9617, 0.4495, 0.5480],\n",
       "        [0.2769, 0.0394, 0.5728, 0.0309, 0.5646, 0.5605, 0.5572],\n",
       "        [0.9844, 0.7477, 0.5782, 0.5969, 0.8407, 0.4376, 0.6596]])"
      ]
     },
     "execution_count": 3,
     "metadata": {},
     "output_type": "execute_result"
    }
   ],
   "source": [
    "tensor"
   ]
  },
  {
   "cell_type": "code",
   "execution_count": null,
   "metadata": {},
   "outputs": [],
   "source": []
  }
 ],
 "metadata": {
  "kernelspec": {
   "display_name": "env",
   "language": "python",
   "name": "python3"
  },
  "language_info": {
   "codemirror_mode": {
    "name": "ipython",
    "version": 3
   },
   "file_extension": ".py",
   "mimetype": "text/x-python",
   "name": "python",
   "nbconvert_exporter": "python",
   "pygments_lexer": "ipython3",
   "version": "3.12.3"
  }
 },
 "nbformat": 4,
 "nbformat_minor": 2
}
