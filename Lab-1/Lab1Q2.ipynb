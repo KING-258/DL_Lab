{
 "cells": [
  {
   "cell_type": "code",
   "execution_count": 1,
   "metadata": {},
   "outputs": [],
   "source": [
    "import torch"
   ]
  },
  {
   "cell_type": "code",
   "execution_count": 2,
   "metadata": {},
   "outputs": [
    {
     "data": {
      "text/plain": [
       "tensor([[[-0.7068, -0.6098,  0.1213,  0.9450, -1.6082],\n",
       "         [-0.3459, -1.3412, -1.1035,  0.7848, -0.0259],\n",
       "         [-0.6030,  0.3875,  1.4238,  1.6236, -0.2495]]])"
      ]
     },
     "execution_count": 2,
     "metadata": {},
     "output_type": "execute_result"
    }
   ],
   "source": [
    "original = torch.randn(1, 3, 5)\n",
    "original"
   ]
  },
  {
   "cell_type": "code",
   "execution_count": 3,
   "metadata": {},
   "outputs": [
    {
     "data": {
      "text/plain": [
       "tensor([[[-0.7068, -0.6098,  0.1213,  0.9450, -1.6082]],\n",
       "\n",
       "        [[-0.3459, -1.3412, -1.1035,  0.7848, -0.0259]],\n",
       "\n",
       "        [[-0.6030,  0.3875,  1.4238,  1.6236, -0.2495]]])"
      ]
     },
     "execution_count": 3,
     "metadata": {},
     "output_type": "execute_result"
    }
   ],
   "source": [
    "permuted = original.permute(1, 0, 2)\n",
    "permuted"
   ]
  },
  {
   "cell_type": "code",
   "execution_count": null,
   "metadata": {},
   "outputs": [],
   "source": []
  }
 ],
 "metadata": {
  "kernelspec": {
   "display_name": "env",
   "language": "python",
   "name": "python3"
  },
  "language_info": {
   "codemirror_mode": {
    "name": "ipython",
    "version": 3
   },
   "file_extension": ".py",
   "mimetype": "text/x-python",
   "name": "python",
   "nbconvert_exporter": "python",
   "pygments_lexer": "ipython3",
   "version": "3.12.3"
  }
 },
 "nbformat": 4,
 "nbformat_minor": 2
}
